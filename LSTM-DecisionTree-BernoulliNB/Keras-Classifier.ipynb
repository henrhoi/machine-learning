{
 "cells": [
  {
   "cell_type": "markdown",
   "metadata": {},
   "source": [
    "# Keras Classifier"
   ]
  },
  {
   "cell_type": "markdown",
   "metadata": {},
   "source": [
    "### Importing data"
   ]
  },
  {
   "cell_type": "code",
   "execution_count": 1,
   "metadata": {},
   "outputs": [
    {
     "name": "stderr",
     "output_type": "stream",
     "text": [
      "Using TensorFlow backend.\n"
     ]
    }
   ],
   "source": [
    "import keras.preprocessing as prep\n",
    "from tensorflow import keras\n",
    "import pickle\n",
    "from nltk.corpus import stopwords\n",
    "from string import punctuation\n",
    "import re\n",
    "\n",
    "\n",
    "x_train, y_train, x_test, y_test, vocab_size, max_length = pickle.load(open(\"data/keras-data.pickle\", \"rb\")).values()"
   ]
  },
  {
   "cell_type": "markdown",
   "metadata": {},
   "source": [
    "### Preprocessing data"
   ]
  },
  {
   "cell_type": "code",
   "execution_count": 2,
   "metadata": {},
   "outputs": [],
   "source": [
    "x_train = prep.sequence.pad_sequences(x_train, maxlen=max_length)\n",
    "x_test = prep.sequence.pad_sequences(x_test, maxlen=max_length)"
   ]
  },
  {
   "cell_type": "markdown",
   "metadata": {},
   "source": [
    "### Creating model"
   ]
  },
  {
   "cell_type": "code",
   "execution_count": 3,
   "metadata": {},
   "outputs": [],
   "source": [
    "from keras.models import Sequential, load_model\n",
    "from keras.layers import Dense, Activation, Embedding, LSTM, Dropout\n",
    "import os\n",
    "\n",
    "def build_model(save=False):\n",
    "    model_path = 'LSTM_ReviewClf_24-03-2018.h5'\n",
    "    exists = os.path.isfile(model_path)\n",
    "    if exists:\n",
    "        print(\"Loading existing model...\")\n",
    "        return load_model(model_path), exists\n",
    "    else:\n",
    "        print(\"Creating new model\")\n",
    "        model = Sequential()\n",
    "        model.add(Embedding(vocab_size, output_dim=256))\n",
    "        model.add(LSTM(256))\n",
    "        model.add(Dense(2))\n",
    "        model.add(Activation(\"softmax\"))\n",
    "\n",
    "        model.compile(loss='binary_crossentropy', optimizer=\"adam\", metrics=['mae', 'acc'])\n",
    "        model.save(model_path) if save else None\n",
    "        return model, exists"
   ]
  },
  {
   "cell_type": "code",
   "execution_count": 4,
   "metadata": {},
   "outputs": [
    {
     "name": "stdout",
     "output_type": "stream",
     "text": [
      "Loading existing model...\n",
      "WARNING:tensorflow:From /anaconda3/lib/python3.7/site-packages/tensorflow/python/framework/op_def_library.py:263: colocate_with (from tensorflow.python.framework.ops) is deprecated and will be removed in a future version.\n",
      "Instructions for updating:\n",
      "Colocations handled automatically by placer.\n",
      "WARNING:tensorflow:From /anaconda3/lib/python3.7/site-packages/tensorflow/python/ops/math_ops.py:3066: to_int32 (from tensorflow.python.ops.math_ops) is deprecated and will be removed in a future version.\n",
      "Instructions for updating:\n",
      "Use tf.cast instead.\n"
     ]
    }
   ],
   "source": [
    "from keras.utils import to_categorical\n",
    "\n",
    "# Building model\n",
    "model, exists = build_model()\n",
    "epochs = 10\n",
    "# Fitting model\n",
    "if not exists:\n",
    "    y_train_binary = to_categorical(y_train, num_classes=2)\n",
    "    \n",
    "    print(\"Fitting model...     \", end='\\r')\n",
    "    train_history = model.fit(x_train, y_train_binary, batch_size=126, epochs=epochs)\n",
    "    \n",
    "    print(\"Plotting epoch figure...    \", end='\\r')\n",
    "    plt.style.use(\"ggplot\")\n",
    "    plt.figure()\n",
    "    plt.plot(np.arange(0, epochs), train_history.history[\"loss\"], label=\"train_loss\")\n",
    "    plt.plot(np.arange(0, epochs), train_history.history[\"val_loss\"], label=\"val_loss\")\n",
    "    plt.plot(np.arange(0, epochs), train_history.history[\"acc\"], label=\"train_acc\")\n",
    "    plt.plot(np.arange(0, epochs), train_history.history[\"val_acc\"], label=\"val_acc\")\n",
    "    plt.title(\"Loss/Accuracy on Reviews\")\n",
    "    plt.xlabel(\"epoch\")\n",
    "    plt.ylabel(\"Loss/Accuracy\")\n",
    "    plt.legend(loc=\"lower left\")\n",
    "    plt.savefig('epoch_fig')"
   ]
  },
  {
   "cell_type": "markdown",
   "metadata": {},
   "source": [
    "### Predicting dataset "
   ]
  },
  {
   "cell_type": "code",
   "execution_count": null,
   "metadata": {},
   "outputs": [
    {
     "name": "stdout",
     "output_type": "stream",
     "text": [
      " 25008/130528 [====>.........................] - ETA: 41:08"
     ]
    }
   ],
   "source": [
    "from sklearn.metrics import accuracy_score\n",
    "import numpy as np\n",
    "\n",
    "predictions_classes = model.predict_classes(x_test, batch_size=16, verbose=1)\n",
    "print(f\"Accuracy: {accuracy_score(predictions_classes, y_test)}\")"
   ]
  }
 ],
 "metadata": {
  "kernelspec": {
   "display_name": "Python 3",
   "language": "python",
   "name": "python3"
  },
  "language_info": {
   "codemirror_mode": {
    "name": "ipython",
    "version": 3
   },
   "file_extension": ".py",
   "mimetype": "text/x-python",
   "name": "python",
   "nbconvert_exporter": "python",
   "pygments_lexer": "ipython3",
   "version": "3.7.0"
  }
 },
 "nbformat": 4,
 "nbformat_minor": 2
}
