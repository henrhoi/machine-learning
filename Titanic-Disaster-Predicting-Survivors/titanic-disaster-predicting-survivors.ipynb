{
 "cells": [
  {
   "cell_type": "code",
   "execution_count": 1,
   "metadata": {
    "_cell_guid": "b1076dfc-b9ad-4769-8c92-a6c4dae69d19",
    "_uuid": "8f2839f25d086af736a60e9eeb907d3b93b6e0e5"
   },
   "outputs": [
    {
     "data": {
      "text/html": [
       "<div>\n",
       "<style scoped>\n",
       "    .dataframe tbody tr th:only-of-type {\n",
       "        vertical-align: middle;\n",
       "    }\n",
       "\n",
       "    .dataframe tbody tr th {\n",
       "        vertical-align: top;\n",
       "    }\n",
       "\n",
       "    .dataframe thead th {\n",
       "        text-align: right;\n",
       "    }\n",
       "</style>\n",
       "<table border=\"1\" class=\"dataframe\">\n",
       "  <thead>\n",
       "    <tr style=\"text-align: right;\">\n",
       "      <th></th>\n",
       "      <th>PassengerId</th>\n",
       "      <th>Survived</th>\n",
       "      <th>Pclass</th>\n",
       "      <th>Name</th>\n",
       "      <th>Sex</th>\n",
       "      <th>Age</th>\n",
       "      <th>SibSp</th>\n",
       "      <th>Parch</th>\n",
       "      <th>Ticket</th>\n",
       "      <th>Fare</th>\n",
       "      <th>Cabin</th>\n",
       "      <th>Embarked</th>\n",
       "    </tr>\n",
       "  </thead>\n",
       "  <tbody>\n",
       "    <tr>\n",
       "      <th>886</th>\n",
       "      <td>887</td>\n",
       "      <td>0</td>\n",
       "      <td>2</td>\n",
       "      <td>Montvila, Rev. Juozas</td>\n",
       "      <td>male</td>\n",
       "      <td>27.0</td>\n",
       "      <td>0</td>\n",
       "      <td>0</td>\n",
       "      <td>211536</td>\n",
       "      <td>13.00</td>\n",
       "      <td>NaN</td>\n",
       "      <td>S</td>\n",
       "    </tr>\n",
       "    <tr>\n",
       "      <th>887</th>\n",
       "      <td>888</td>\n",
       "      <td>1</td>\n",
       "      <td>1</td>\n",
       "      <td>Graham, Miss. Margaret Edith</td>\n",
       "      <td>female</td>\n",
       "      <td>19.0</td>\n",
       "      <td>0</td>\n",
       "      <td>0</td>\n",
       "      <td>112053</td>\n",
       "      <td>30.00</td>\n",
       "      <td>B42</td>\n",
       "      <td>S</td>\n",
       "    </tr>\n",
       "    <tr>\n",
       "      <th>888</th>\n",
       "      <td>889</td>\n",
       "      <td>0</td>\n",
       "      <td>3</td>\n",
       "      <td>Johnston, Miss. Catherine Helen \"Carrie\"</td>\n",
       "      <td>female</td>\n",
       "      <td>NaN</td>\n",
       "      <td>1</td>\n",
       "      <td>2</td>\n",
       "      <td>W./C. 6607</td>\n",
       "      <td>23.45</td>\n",
       "      <td>NaN</td>\n",
       "      <td>S</td>\n",
       "    </tr>\n",
       "    <tr>\n",
       "      <th>889</th>\n",
       "      <td>890</td>\n",
       "      <td>1</td>\n",
       "      <td>1</td>\n",
       "      <td>Behr, Mr. Karl Howell</td>\n",
       "      <td>male</td>\n",
       "      <td>26.0</td>\n",
       "      <td>0</td>\n",
       "      <td>0</td>\n",
       "      <td>111369</td>\n",
       "      <td>30.00</td>\n",
       "      <td>C148</td>\n",
       "      <td>C</td>\n",
       "    </tr>\n",
       "    <tr>\n",
       "      <th>890</th>\n",
       "      <td>891</td>\n",
       "      <td>0</td>\n",
       "      <td>3</td>\n",
       "      <td>Dooley, Mr. Patrick</td>\n",
       "      <td>male</td>\n",
       "      <td>32.0</td>\n",
       "      <td>0</td>\n",
       "      <td>0</td>\n",
       "      <td>370376</td>\n",
       "      <td>7.75</td>\n",
       "      <td>NaN</td>\n",
       "      <td>Q</td>\n",
       "    </tr>\n",
       "  </tbody>\n",
       "</table>\n",
       "</div>"
      ],
      "text/plain": [
       "     PassengerId  Survived  Pclass    ...      Fare Cabin  Embarked\n",
       "886          887         0       2    ...     13.00   NaN         S\n",
       "887          888         1       1    ...     30.00   B42         S\n",
       "888          889         0       3    ...     23.45   NaN         S\n",
       "889          890         1       1    ...     30.00  C148         C\n",
       "890          891         0       3    ...      7.75   NaN         Q\n",
       "\n",
       "[5 rows x 12 columns]"
      ]
     },
     "execution_count": 1,
     "metadata": {},
     "output_type": "execute_result"
    }
   ],
   "source": [
    "import numpy as np \n",
    "import pandas as pd\n",
    "\n",
    "\n",
    "train = pd.read_csv('../input/train.csv')  Test data\n",
    "test = pd.read_csv('../input/test.csv')  Test data\n",
    "\n",
    "datasets = [train, test]\n",
    "\n",
    "train.tail()"
   ]
  },
  {
   "cell_type": "markdown",
   "metadata": {
    "_uuid": "e2ec17cfca1db392e4a73bb50b5147577e57062d"
   },
   "source": [
    " Preprocessing"
   ]
  },
  {
   "cell_type": "code",
   "execution_count": 2,
   "metadata": {
    "_cell_guid": "79c7e3d0-c299-4dcb-8224-4455121ee9b0",
    "_uuid": "d629ff2d2480ee46fbb7e2d37f6b5fab8052498a"
   },
   "outputs": [],
   "source": [
    "import re\n",
    "epic_titles = set(['Lady', 'Countess','Capt', 'Col','Don', 'Dr', 'Major', 'Rev', 'Sir', 'Jonkheer', 'Dona'])\n",
    "female_titles = set(['Lady', 'Countess', 'Dona', 'Mlle', 'Ms', 'Mme'])\n",
    "deck = {\"A\": 1, \"B\": 2, \"C\": 3, \"D\": 4, \"E\": 5, \"F\": 6, \"G\": 7, \"U\": 8}\n",
    "\n",
    "def mapFare(fare):\n",
    "    if fare <= 7.91:\n",
    "        return 0\n",
    "    elif fare > 7.91 and fare <= 14.454:\n",
    "        return 1\n",
    "    elif fare > 14.454 and fare <= 31:\n",
    "        return 2\n",
    "    elif fare > 31:\n",
    "        return 3\n",
    "\n",
    "def mapAge(age):\n",
    "    if age <= 16:\n",
    "        return 0\n",
    "    elif age > 16 and age <= 32:\n",
    "        return 1\n",
    "    elif age > 32 and age <= 48:\n",
    "        return 2\n",
    "    elif age > 48 and age <= 64:\n",
    "        return 3\n",
    "    elif age > 64:\n",
    "        return 4\n",
    "    \n",
    "for dataset in datasets:\n",
    "#     Adding feature of family size\n",
    "    dataset['FamilySize'] = dataset['SibSp'] + dataset['Parch'] + 1\n",
    "    dataset['IsAlone'] = 0\n",
    "    dataset.loc[dataset['FamilySize'] == 1, 'IsAlone'] = 1\n",
    "    dataset.drop([ 'SibSp', 'Parch'], axis=1, inplace=True)\n",
    "    \n",
    " #    Adding title as a feature\n",
    "    dataset['Title'] = dataset['Name'].apply(lambda x: x.split(',')[1].split('.')[0].strip())\n",
    "    dataset['Title'] = dataset['Title'].apply(lambda x: x if x not in epic_titles else 'Epic')\n",
    "    \n",
    "  #   Fill NaN for Sex based on Title \n",
    "    dataset['Sex'] = dataset['Sex'].fillna(dataset['Title'].apply(lambda x: 'female' if x in female_titles else 'male'))\n",
    "\n",
    "    # Changing from old names to new names\n",
    "    dataset['Title'] = dataset['Title'].replace('Mlle', 'Miss')\n",
    "    dataset['Title'] = dataset['Title'].replace('Ms', 'Miss')\n",
    "    dataset['Title'] = dataset['Title'].replace('Mme', 'Mrs')\n",
    "\n",
    "    # Mapping title columns to int values\n",
    "    title_mapping = {\"Mr\": 1, \"Miss\": 2, \"Mrs\": 3, \"Master\": 4, \"Epic\": 5}\n",
    "    dataset['Title'] = dataset['Title'].apply(lambda x: title_mapping[x] if x in title_mapping else 5)\n",
    "\n",
    "    # Mapping Sex columns\n",
    "    dataset['Sex'] = dataset['Sex'].map( {\"female\": 0, \"male\": 1} ).astype(int)\n",
    "\n",
    "    # Mapping Age from 0 to 4\n",
    "    dataset['Age'] = dataset['Age'].fillna(dataset['Age'].mean())  First replacing NaN with meanvalue\n",
    "    dataset['Age'] = dataset['Age'].apply(lambda x: mapAge(x))\n",
    "    dataset['Age'] = dataset['Age'].astype(int)\n",
    "\n",
    "    # Mapping Fare\n",
    "    dataset['Fare'] = dataset['Fare'].fillna(train['Fare'].median())\n",
    "    dataset['Fare'] = dataset['Fare'].apply(lambda x: mapFare(x))\n",
    "    dataset['Fare'] = dataset['Fare'].astype(int)\n",
    "\n",
    "    # Mapping Embarked\n",
    "    dataset['Embarked'] = dataset['Embarked'].fillna('S')\n",
    "    dataset['Embarked'] = dataset['Embarked'].map( {'S': 0, 'C': 1, 'Q': 2} ).astype(int)\n",
    "    \n",
    "    # Mapping deck feature\n",
    "    dataset['Cabin'] = dataset['Cabin'].fillna(\"U0\")\n",
    "    dataset['Deck'] = dataset['Cabin'].map(lambda x: re.compile(\"([a-zA-Z]+)\").search(x).group())\n",
    "    dataset['Deck'] = dataset['Deck'].map(deck)\n",
    "    dataset['Deck'] = dataset['Deck'].fillna(0)\n",
    "    dataset['Deck'] = dataset['Deck'].astype(int)\n",
    "    # we can now drop the cabin feature\n",
    "    dataset.drop(['Cabin'], axis=1, inplace=True)"
   ]
  },
  {
   "cell_type": "code",
   "execution_count": 3,
   "metadata": {
    "_uuid": "50a7eb35289f34469316a0cb30244a22838b7ad6"
   },
   "outputs": [
    {
     "data": {
      "text/html": [
       "<div>\n",
       "<style scoped>\n",
       "    .dataframe tbody tr th:only-of-type {\n",
       "        vertical-align: middle;\n",
       "    }\n",
       "\n",
       "    .dataframe tbody tr th {\n",
       "        vertical-align: top;\n",
       "    }\n",
       "\n",
       "    .dataframe thead th {\n",
       "        text-align: right;\n",
       "    }\n",
       "</style>\n",
       "<table border=\"1\" class=\"dataframe\">\n",
       "  <thead>\n",
       "    <tr style=\"text-align: right;\">\n",
       "      <th></th>\n",
       "      <th>PassengerId</th>\n",
       "      <th>Survived</th>\n",
       "      <th>Pclass</th>\n",
       "      <th>Name</th>\n",
       "      <th>Sex</th>\n",
       "      <th>Age</th>\n",
       "      <th>SibSp</th>\n",
       "      <th>Parch</th>\n",
       "      <th>Ticket</th>\n",
       "      <th>Fare</th>\n",
       "      <th>Embarked</th>\n",
       "      <th>FamilySize</th>\n",
       "      <th>IsAlone</th>\n",
       "      <th>Title</th>\n",
       "      <th>Deck</th>\n",
       "    </tr>\n",
       "  </thead>\n",
       "  <tbody>\n",
       "    <tr>\n",
       "      <th>0</th>\n",
       "      <td>1</td>\n",
       "      <td>0</td>\n",
       "      <td>3</td>\n",
       "      <td>Braund, Mr. Owen Harris</td>\n",
       "      <td>1</td>\n",
       "      <td>1</td>\n",
       "      <td>1</td>\n",
       "      <td>0</td>\n",
       "      <td>A/5 21171</td>\n",
       "      <td>0</td>\n",
       "      <td>0</td>\n",
       "      <td>2</td>\n",
       "      <td>0</td>\n",
       "      <td>1</td>\n",
       "      <td>8</td>\n",
       "    </tr>\n",
       "    <tr>\n",
       "      <th>1</th>\n",
       "      <td>2</td>\n",
       "      <td>1</td>\n",
       "      <td>1</td>\n",
       "      <td>Cumings, Mrs. John Bradley (Florence Briggs Th...</td>\n",
       "      <td>0</td>\n",
       "      <td>2</td>\n",
       "      <td>1</td>\n",
       "      <td>0</td>\n",
       "      <td>PC 17599</td>\n",
       "      <td>3</td>\n",
       "      <td>1</td>\n",
       "      <td>2</td>\n",
       "      <td>0</td>\n",
       "      <td>3</td>\n",
       "      <td>3</td>\n",
       "    </tr>\n",
       "    <tr>\n",
       "      <th>2</th>\n",
       "      <td>3</td>\n",
       "      <td>1</td>\n",
       "      <td>3</td>\n",
       "      <td>Heikkinen, Miss. Laina</td>\n",
       "      <td>0</td>\n",
       "      <td>1</td>\n",
       "      <td>0</td>\n",
       "      <td>0</td>\n",
       "      <td>STON/O2. 3101282</td>\n",
       "      <td>1</td>\n",
       "      <td>0</td>\n",
       "      <td>1</td>\n",
       "      <td>1</td>\n",
       "      <td>2</td>\n",
       "      <td>8</td>\n",
       "    </tr>\n",
       "    <tr>\n",
       "      <th>3</th>\n",
       "      <td>4</td>\n",
       "      <td>1</td>\n",
       "      <td>1</td>\n",
       "      <td>Futrelle, Mrs. Jacques Heath (Lily May Peel)</td>\n",
       "      <td>0</td>\n",
       "      <td>2</td>\n",
       "      <td>1</td>\n",
       "      <td>0</td>\n",
       "      <td>113803</td>\n",
       "      <td>3</td>\n",
       "      <td>0</td>\n",
       "      <td>2</td>\n",
       "      <td>0</td>\n",
       "      <td>3</td>\n",
       "      <td>3</td>\n",
       "    </tr>\n",
       "    <tr>\n",
       "      <th>4</th>\n",
       "      <td>5</td>\n",
       "      <td>0</td>\n",
       "      <td>3</td>\n",
       "      <td>Allen, Mr. William Henry</td>\n",
       "      <td>1</td>\n",
       "      <td>2</td>\n",
       "      <td>0</td>\n",
       "      <td>0</td>\n",
       "      <td>373450</td>\n",
       "      <td>1</td>\n",
       "      <td>0</td>\n",
       "      <td>1</td>\n",
       "      <td>1</td>\n",
       "      <td>1</td>\n",
       "      <td>8</td>\n",
       "    </tr>\n",
       "  </tbody>\n",
       "</table>\n",
       "</div>"
      ],
      "text/plain": [
       "   PassengerId  Survived  Pclass  ...  IsAlone  Title  Deck\n",
       "0            1         0       3  ...        0      1     8\n",
       "1            2         1       1  ...        0      3     3\n",
       "2            3         1       3  ...        1      2     8\n",
       "3            4         1       1  ...        0      3     3\n",
       "4            5         0       3  ...        1      1     8\n",
       "\n",
       "[5 rows x 15 columns]"
      ]
     },
     "execution_count": 3,
     "metadata": {},
     "output_type": "execute_result"
    }
   ],
   "source": [
    "train.head()"
   ]
  },
  {
   "cell_type": "code",
   "execution_count": 4,
   "metadata": {
    "_uuid": "3f9dd7e28698880d5e0ea8dbe1eebe4e35e698f6"
   },
   "outputs": [
    {
     "data": {
      "text/html": [
       "<div>\n",
       "<style scoped>\n",
       "    .dataframe tbody tr th:only-of-type {\n",
       "        vertical-align: middle;\n",
       "    }\n",
       "\n",
       "    .dataframe tbody tr th {\n",
       "        vertical-align: top;\n",
       "    }\n",
       "\n",
       "    .dataframe thead tr th {\n",
       "        text-align: left;\n",
       "    }\n",
       "\n",
       "    .dataframe thead tr:last-of-type th {\n",
       "        text-align: right;\n",
       "    }\n",
       "</style>\n",
       "<table border=\"1\" class=\"dataframe\">\n",
       "  <thead>\n",
       "    <tr>\n",
       "      <th></th>\n",
       "      <th colspan=\"3\" halign=\"left\">Survived</th>\n",
       "    </tr>\n",
       "    <tr>\n",
       "      <th></th>\n",
       "      <th>mean</th>\n",
       "      <th>count</th>\n",
       "      <th>sum</th>\n",
       "    </tr>\n",
       "    <tr>\n",
       "      <th>Sex</th>\n",
       "      <th></th>\n",
       "      <th></th>\n",
       "      <th></th>\n",
       "    </tr>\n",
       "  </thead>\n",
       "  <tbody>\n",
       "    <tr>\n",
       "      <th>0</th>\n",
       "      <td>0.742038</td>\n",
       "      <td>314</td>\n",
       "      <td>233</td>\n",
       "    </tr>\n",
       "    <tr>\n",
       "      <th>1</th>\n",
       "      <td>0.188908</td>\n",
       "      <td>577</td>\n",
       "      <td>109</td>\n",
       "    </tr>\n",
       "  </tbody>\n",
       "</table>\n",
       "</div>"
      ],
      "text/plain": [
       "     Survived           \n",
       "         mean count  sum\n",
       "Sex                     \n",
       "0    0.742038   314  233\n",
       "1    0.188908   577  109"
      ]
     },
     "execution_count": 4,
     "metadata": {},
     "output_type": "execute_result"
    }
   ],
   "source": [
    "# Lookin at sex as a feature\n",
    "train[['Sex', 'Survived']].groupby(['Sex'], as_index=False).agg(['mean', 'count', 'sum'])"
   ]
  },
  {
   "cell_type": "code",
   "execution_count": 5,
   "metadata": {
    "_uuid": "2e3ecbb3a86544c0715b43901c078fecc6c38f8a"
   },
   "outputs": [
    {
     "data": {
      "text/plain": [
       "Index(['Pclass', 'Sex', 'Age', 'SibSp', 'Parch', 'Fare', 'Embarked',\n",
       "       'FamilySize', 'IsAlone', 'Title', 'Deck'],\n",
       "      dtype='object')"
      ]
     },
     "execution_count": 5,
     "metadata": {},
     "output_type": "execute_result"
    }
   ],
   "source": [
    "# Selecting columsn for splitting of data in next section\n",
    "y = train[['Survived']]\n",
    "x = train.drop(columns=['Name', 'Ticket', 'Survived', 'PassengerId'])\n",
    "x.columns"
   ]
  },
  {
   "cell_type": "markdown",
   "metadata": {
    "_uuid": "1db9b23caf81bcff50b8cb876a5dce6f1813c786"
   },
   "source": [
    " Correlation map"
   ]
  },
  {
   "cell_type": "code",
   "execution_count": 6,
   "metadata": {
    "_uuid": "9f92f6af149de89733557ce30b7f343a8605cb64"
   },
   "outputs": [
    {
     "data": {
      "text/plain": [
       "<matplotlib.axes._subplots.AxesSubplot at 0x7fddc22736a0>"
      ]
     },
     "execution_count": 6,
     "metadata": {},
     "output_type": "execute_result"
    },
    {
     "data": {
      "image/png": "[encoded data removed]",
      "text/plain": [
       "<Figure size 720x720 with 2 Axes>"
      ]
     },
     "metadata": {},
     "output_type": "display_data"
    }
   ],
   "source": [
    "import matplotlib.pyplot as plt\n",
    "import seaborn as sns\n",
    "\n",
    "colormap = plt.cm.viridis\n",
    "plt.figure(figsize=(10,10))\n",
    "plt.title('Titanic Correlation of Features', y=1.05, size=15)\n",
    "sns.heatmap(train.select_dtypes([np.number]).astype(float).corr(),linewidths=0.1,vmax=1.0, square=True, cmap=colormap, linecolor='white', annot=True)"
   ]
  },
  {
   "cell_type": "markdown",
   "metadata": {
    "_uuid": "455088664a3b3948dfb89bdde449e3d6fa2feaf1"
   },
   "source": [
    " Random Forest Classifier with Grid Search"
   ]
  },
  {
   "cell_type": "code",
   "execution_count": 10,
   "metadata": {
    "_uuid": "90c995d25cdaa700e62d3be344c736d16f46b8ae"
   },
   "outputs": [],
   "source": [
    "# Parameters for grid search\n",
    "parameters = {\n",
    " 'n_estimators'      : [50, 100] + [x for x in range(200, 250, 30)],\n",
    " 'max_depth'         : [x for x in range(5,10)] + [100],\n",
    " 'random_state'      : [0, 1],\n",
    " 'max_features'      : ['auto', 'log2'],\n",
    "}\n",
    "rf_vanilla = RandomForestClassifier(n_estimators=100, max_depth=100)\n",
    "rf_vanilla = rf_vanilla.fit(train_x, train_y)\n",
    "\n",
    "# Looking at importance of features\n",
    "fti = rf_vanilla.feature_importances_\n",
    "print(\"Feature imporantances out of the box:\")\n",
    "for i, feat in enumerate(list(train_x.columns)):\n",
    "     print('\\t{0:20s} : {1:>.6f}'.format(feat, fti[i]))\n",
    "\n",
    "\n",
    "GS_rf = GridSearchCV(RandomForestClassifier(), parameters, cv=10, n_jobs=-1)\n",
    "GS_rf.fit(x, np.ravel(y))\n",
    "preds = GS_rf.predict(test_x)\n",
    "print('Accuracy with grid searched rf: ', accuracy_score(preds, test_y))\n",
    "print('Best params', GS_rf.best_params_)\n",
    "\n",
    "#Did return \"Best params {'max_depth': 6, 'max_features': 'auto', 'n_estimators': 240, 'random_state': 0}\""
   ]
  },
  {
   "cell_type": "code",
   "execution_count": 1,
   "metadata": {
    "_uuid": "f3dd0de747b97f5b258804086bfd6f7e1360629d"
   },
   "outputs": [],
   "source": [
    " # Testing all classifiers\n",
    "rf = RandomForestClassifier(n_estimators=50, max_depth=100, n_jobs=-1)\n",
    "rf.fit(x, np.ravel(y))\n",
    "preds = rf.predict(test_x)\n",
    "print('Accuracy with rf: ', accuracy_score(preds, test_y))\n",
    "\n",
    "dt = DecisionTreeClassifier()\n",
    "dt.fit(train_x, train_y)\n",
    "preds = dt.predict(test_x)\n",
    "print('Accuracy with dt: ', accuracy_score(preds, test_y))\n",
    "\n",
    "neigh = KNeighborsClassifier(n_neighbors=5)\n",
    "neigh.fit(train_x, train_y)\n",
    "\n",
    "preds = neigh.predict(test_x)\n",
    "print('Accuracy with kneigh: ', accuracy_score(preds, test_y))"
   ]
  },
  {
   "cell_type": "markdown",
   "metadata": {
    "_uuid": "6c3d0ee59290f2746aeb6c632b71909ee2c0e460"
   },
   "source": [
    " Testing many different classifiers for benchmarking"
   ]
  },
  {
   "cell_type": "code",
   "execution_count": 12,
   "metadata": {
    "_uuid": "240361b5c72300bd02957b446b4e0da23db11738"
   },
   "outputs": [],
   "source": [
    "from sklearn.neural_network import MLPClassifier\n",
    "from sklearn.neighbors import KNeighborsClassifier\n",
    "from sklearn.svm import SVC\n",
    "from sklearn.gaussian_process import GaussianProcessClassifier\n",
    "from sklearn.gaussian_process.kernels import RBF\n",
    "from sklearn.tree import DecisionTreeClassifier\n",
    "from sklearn.ensemble import RandomForestClassifier, AdaBoostClassifier\n",
    "from sklearn.naive_bayes import GaussianNB\n",
    "from sklearn.discriminant_analysis import QuadraticDiscriminantAnalysis\n",
    "\n",
    "names = [\"Nearest Neighbors\", \"Linear SVM\", \"RBF SVM\", \"Gaussian Process\",\n",
    "      \"Decision Tree\", \"Random Forest\", \"Neural Net\", \"AdaBoost\",\n",
    "      \"Naive Bayes\", \"QDA\"]\n",
    "\n",
    "classifiers = [\n",
    " KNeighborsClassifier(3),\n",
    " SVC(kernel=\"linear\", C=0.025),\n",
    " SVC(gamma=2, C=1),\n",
    " GaussianProcessClassifier(1.0 * RBF(1.0)),\n",
    " DecisionTreeClassifier(max_depth=5),\n",
    " RandomForestClassifier(max_depth=5, n_estimators=10, max_features=1),\n",
    " MLPClassifier(alpha=1, max_iter=500),\n",
    " AdaBoostClassifier(),\n",
    " GaussianNB(),\n",
    " QuadraticDiscriminantAnalysis()]\n",
    "\n",
    "for i, classifier in enumerate(classifiers):\n",
    " classifier.fit(train_x, train_y)\n",
    " preds = classifier.predict(test_x)\n",
    " print(f\"Predicting with {names[i]}, accuracy: {accuracy_score(preds, test_y)}\")"
   ]
  },
  {
   "cell_type": "markdown",
   "metadata": {
    "_uuid": "098dfd48b315e4258e064c70f8a09a3826d0efde"
   },
   "source": [
    " Keras Binary classifier"
   ]
  },
  {
   "cell_type": "code",
   "execution_count": 13,
   "metadata": {
    "_uuid": "0f5eddcf20c02a607bffe3ea1fbe287f29882a0f"
   },
   "outputs": [],
   "source": [
    "# Importing libraries for building the neural network\n",
    "import tensorflow as tf\n",
    "from keras.models import Sequential\n",
    "from keras.layers import Dense\n",
    "from keras.wrappers.scikit_learn import KerasClassifier\n",
    "from sklearn.model_selection import StratifiedKFold\n",
    "from sklearn.model_selection import cross_val_score\n",
    "from sklearn.preprocessing import StandardScaler\n",
    "from sklearn.pipeline import Pipeline\n",
    "from sklearn.exceptions import DataConversionWarning\n",
    "import warnings\n",
    "warnings.filterwarnings(action='ignore', category=DataConversionWarning)\n",
    "\n",
    "print(tf.test.gpu_device_name())\n",
    "config = tf.ConfigProto()\n",
    "config.gpu_options.allow_growth = True"
   ]
  },
  {
   "cell_type": "code",
   "execution_count": 14,
   "metadata": {
    "_uuid": "33161493eb5e70121cbea09147b9fe531e8c57bd"
   },
   "outputs": [],
   "source": [
    "def create_baseline(optimizer='adam', init='uniform'):\n",
    "    # create model\n",
    "    if verbose: print(\"Create model with optimizer: %s; init: %s\" % (optimizer, init) )\n",
    "        model = Sequential()\n",
    "        model.add(Dense(16, input_dim=train_x.shape[1], kernel_initializer=init, activation='relu'))\n",
    "        model.add(Dense(8, kernel_initializer=init, activation='relu'))\n",
    "        model.add(Dense(4, kernel_initializer=init, activation='tanh'))\n",
    "        model.add(Dense(1, kernel_initializer=init, activation='sigmoid'))\n",
    "        #Compile model\n",
    "        model.compile(loss='binary_crossentropy', optimizer=optimizer, metrics=['accuracy'])\n",
    "    return model"
   ]
  },
  {
   "cell_type": "code",
   "execution_count": 15,
   "metadata": {
    "_uuid": "cbf0fca7754e646b4456cdcd39c7cabefec8abbd"
   },
   "outputs": [],
   "source": [
    "#  Training model\n",
    "verbose = 1\n",
    "gridsearch = False\n",
    "with tf.device('/GPU:0'):\n",
    "    if gridsearch:\n",
    "        parameters = {\n",
    "         'optimizer' : ['rmsprop', 'adam'],\n",
    "         'init' : ['normal', 'uniform'],\n",
    "         'epochs' : [100, 200],\n",
    "         'batch_size' : [5, 10, 15],\n",
    "             }\n",
    "            \n",
    "        model = KerasClassifier(build_fn=create_baseline, verbose=0)\n",
    "\n",
    "        grid_model = GridSearchCV(estimator=model, param_grid=parameters)\n",
    "        grid_result = grid_model.fit(train_x, train_y)\n",
    "\n",
    "        summarize results\n",
    "        print(\"Best: %f using %s\" % (grid_result.best_score_, grid_result.best_params_))\n",
    "        means = grid_result.cv_results_['mean_test_score']\n",
    "        stds = grid_result.cv_results_['std_test_score']\n",
    "        params = grid_result.cv_results_['params']\n",
    "        if verbose: \n",
    "            for mean, stdev, param in zip(means, stds, params):\n",
    "                 print(\"%f (%f) with: %r\" % (mean, stdev, param))\n",
    "        elapsed_time = time.time() - start_time  \n",
    "        print (\"Time elapsed: \",timedelta(seconds=elapsed_time))\n",
    "\n",
    "        best_epochs = grid_result.best_params_['epochs']\n",
    "        best_batch_size = grid_result.best_params_['batch_size']\n",
    "        best_init = grid_result.best_params_['init']\n",
    "        best_optimizer = grid_result.best_params_['optimizer']\n",
    "    else:\n",
    "        best_epochs = 200\n",
    "        best_batch_size = 5\n",
    "        best_init = 'uniform'\n",
    "        best_optimizer = 'adam'"
   ]
  },
  {
   "cell_type": "code",
   "execution_count": 16,
   "metadata": {
    "_uuid": "513523e7406052a52fbc4bfc2323b5b5fe34498f"
   },
   "outputs": [],
   "source": [
    "#  Create a classifier with best parameters for whole dataset\n",
    "with tf.device('/GPU:0'):\n",
    "    model = KerasClassifier(build_fn=create_baseline, optimizer=best_optimizer, init=best_init, epochs=best_epochs, batch_size=best_batch_size, verbose=0)\n",
    "    model.fit(x, y)"
   ]
  },
  {
   "cell_type": "code",
   "execution_count": 17,
   "metadata": {
    "_uuid": "139a57a4b55d465decbeb286588d81265b479796"
   },
   "outputs": [],
   "source": [
    "# Predicting values\n",
    "with tf.device('/GPU:0'):\n",
    "    preds = model.predict(test_x)\n",
    "    print(f\"Keras Classifiers accuracy: {accuracy_score(preds, test_y)}\")\n",
    "    "
   ]
  },
  {
   "cell_type": "code",
   "execution_count": 18,
   "metadata": {
    "_uuid": "5157aba022350dbe0e7a37bd45bf3e8412188f3b"
   },
   "outputs": [],
   "source": [
    "final_model = SVC(gamma=2, C=1)\n",
    "final_model.fit(x, np.ravel(y))"
   ]
  },
  {
   "cell_type": "code",
   "execution_count": 19,
   "metadata": {
    "_uuid": "fe81497e6852abb8e277b728ad1d9d234921eef6"
   },
   "outputs": [],
   "source": [
    "#  Selecting columsn for splitting of data in next section\n",
    "test_data = test.drop(columns=['Name', 'Ticket', 'PassengerId'])\n",
    "\n",
    "# Predicting values from testing set\n",
    "with tf.device('/GPU:0'):\n",
    "    preds = final_model.predict(test_data)\n",
    "\n",
    "pred_df = test[['PassengerId']].copy()\n",
    "pred_df['Survived'] = preds\n",
    "pred_df.to_csv('submission_svc.csv', index=False)\n",
    "pred_df.sample(10)"
   ]
  }
 ],
 "metadata": {
  "kernelspec": {
   "display_name": "Python 3",
   "language": "python",
   "name": "python3"
  },
  "language_info": {
   "codemirror_mode": {
    "name": "ipython",
    "version": 3
   },
   "file_extension": ".py",
   "mimetype": "text/x-python",
   "name": "python",
   "nbconvert_exporter": "python",
   "pygments_lexer": "ipython3",
   "version": "3.7.2"
  }
 },
 "nbformat": 4,
 "nbformat_minor": 1
}
