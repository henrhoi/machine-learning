{
 "cells": [
  {
   "cell_type": "markdown",
   "metadata": {},
   "source": [
    "## BernoulliNB Classifier"
   ]
  },
  {
   "cell_type": "markdown",
   "metadata": {},
   "source": [
    "#### Importing data"
   ]
  },
  {
   "cell_type": "code",
   "execution_count": 3,
   "metadata": {},
   "outputs": [
    {
     "data": {
      "text/plain": [
       "'\\n# Training on smaller dataset\\nn = 100000\\nx_train = x_train[:n]\\ny_train = y_train[:n]\\n'"
      ]
     },
     "execution_count": 3,
     "metadata": {},
     "output_type": "execute_result"
    }
   ],
   "source": [
    "import pickle\n",
    "from nltk.corpus import stopwords\n",
    "from string import punctuation\n",
    "import re\n",
    "\n",
    "x_train, y_train, x_test, y_test = pickle.load(open(\"data/sklearn-data.pickle\", \"rb\")).values()\n"
   ]
  },
  {
   "cell_type": "markdown",
   "metadata": {},
   "source": [
    "#### Preprocessing"
   ]
  },
  {
   "cell_type": "code",
   "execution_count": 4,
   "metadata": {},
   "outputs": [],
   "source": [
    "# Removing special characters\n",
    "for index, review in enumerate(x_train):\n",
    "    x_train[index] = re.sub('['+punctuation+']', '', review)\n",
    "    \n",
    "for index, review in enumerate(x_test):\n",
    "    x_test[index] = re.sub('['+punctuation+']', '', review)"
   ]
  },
  {
   "cell_type": "code",
   "execution_count": 34,
   "metadata": {},
   "outputs": [
    {
     "name": "stdout",
     "output_type": "stream",
     "text": [
      "30630\n"
     ]
    }
   ],
   "source": [
    "from collections import Counter\n",
    "\n",
    "stop_words = set(stopwords.words('english'))\n",
    "\n",
    "# Checking number of unique words\n",
    "words = [word for sentence in x_train for word in sentence.split() if word not in stop_words and word not in punctuation]\n",
    "print(len(Counter(words).keys())) "
   ]
  },
  {
   "cell_type": "markdown",
   "metadata": {},
   "source": [
    "#### Creating a HashingVectorizer for the word-features"
   ]
  },
  {
   "cell_type": "code",
   "execution_count": 5,
   "metadata": {},
   "outputs": [
    {
     "name": "stdout",
     "output_type": "stream",
     "text": [
      "[[0. 0. 0. ... 0. 0. 0.]\n",
      " [0. 0. 0. ... 0. 0. 0.]]\n"
     ]
    }
   ],
   "source": [
    "from sklearn.feature_extraction.text import HashingVectorizer\n",
    "\n",
    "stop_words = set(stopwords.words('english'))\n",
    "vectorizer = HashingVectorizer(norm=\"l1\",n_features=2**28, ngram_range=(1,3),\n",
    "                               stop_words=stop_words, binary=False, alternate_sign=False )\n",
    "\n",
    "\n",
    "corpus = [\n",
    "    \"My name is Henrik pannekake\",\n",
    "    \"I am Henrik\",\n",
    "]\n",
    "\n",
    "x_train_coded = vectorizer.fit_transform(x_train)\n",
    "x_test_coded = vectorizer.fit_transform(x_test)\n",
    "\n",
    "# Testing\n",
    "print(vectorizer.fit_transform(corpus).toarray())"
   ]
  },
  {
   "cell_type": "markdown",
   "metadata": {},
   "source": [
    "### Naive Bayes classifier for multivariate Bernoulli models"
   ]
  },
  {
   "cell_type": "code",
   "execution_count": 6,
   "metadata": {},
   "outputs": [
    {
     "data": {
      "text/plain": [
       "BernoulliNB(alpha=1e-10, binarize=0.0, class_prior=None, fit_prior=True)"
      ]
     },
     "execution_count": 6,
     "metadata": {},
     "output_type": "execute_result"
    }
   ],
   "source": [
    "from sklearn.naive_bayes import BernoulliNB\n",
    "classifier_nb = BernoulliNB(alpha=1.0e-10)\n",
    "\n",
    "# Fitting classifier\n",
    "classifier_nb.fit(x_train_coded, y_train)"
   ]
  },
  {
   "cell_type": "code",
   "execution_count": 7,
   "metadata": {},
   "outputs": [
    {
     "name": "stdout",
     "output_type": "stream",
     "text": [
      "Accuracy of classifier is 0.9084640843343957\n"
     ]
    }
   ],
   "source": [
    "from sklearn.metrics import accuracy_score\n",
    "\n",
    "# Predicting test data and checking accuracy\n",
    "preds_nb = classifier_nb.predict(x_test_coded)\n",
    "print(f\"Accuracy of classifier is {accuracy_score(preds_nb, y_test)}\")"
   ]
  },
  {
   "cell_type": "markdown",
   "metadata": {},
   "source": [
    "### Decision Tree Classifier"
   ]
  },
  {
   "cell_type": "code",
   "execution_count": null,
   "metadata": {},
   "outputs": [],
   "source": [
    "from sklearn.tree import DecisionTreeClassifier\n",
    "from sklearn.metrics import accuracy_score\n",
    "\n",
    "classifier_dt = DecisionTreeClassifier()\n",
    "classifier_dt.fit(x_train_coded, y_train)"
   ]
  },
  {
   "cell_type": "code",
   "execution_count": null,
   "metadata": {},
   "outputs": [],
   "source": [
    "# Predicting test data and checking accuracy\n",
    "preds_dt = classifier_dt.predict(x_test_coded)\n",
    "print(f\"Accuracy of classifier is {accuracy_score(preds_dt, y_test)}\")"
   ]
  }
 ],
 "metadata": {
  "kernelspec": {
   "display_name": "Python 3",
   "language": "python",
   "name": "python3"
  },
  "language_info": {
   "codemirror_mode": {
    "name": "ipython",
    "version": 3
   },
   "file_extension": ".py",
   "mimetype": "text/x-python",
   "name": "python",
   "nbconvert_exporter": "python",
   "pygments_lexer": "ipython3",
   "version": "3.7.0"
  }
 },
 "nbformat": 4,
 "nbformat_minor": 2
}
